{
 "cells": [
  {
   "cell_type": "markdown",
   "id": "79a253ee-53e2-4353-8ee3-a29d43b1c781",
   "metadata": {},
   "source": [
    "## 1. Write a program that accepts a list from user and print the alternate element of list."
   ]
  },
  {
   "cell_type": "code",
   "execution_count": 6,
   "id": "77787e1e-cdd3-4a89-9371-ee8d5908ec78",
   "metadata": {},
   "outputs": [
    {
     "name": "stdout",
     "output_type": "stream",
     "text": [
      "1\n",
      "2\n",
      "3\n",
      "4\n",
      "5\n"
     ]
    }
   ],
   "source": [
    "items = [1,2,3,4,5]\n",
    "for item in items:\n",
    "    print(item)"
   ]
  },
  {
   "cell_type": "markdown",
   "id": "a14f75ad-116f-4835-859d-35d206c630a3",
   "metadata": {},
   "source": [
    "## 2. Write a program that accepts a list from user. Your program should reverse the content of list and display it. Do not use reverse() method."
   ]
  },
  {
   "cell_type": "code",
   "execution_count": 29,
   "id": "da2522d0-936b-4220-a571-7dde1fb92ca0",
   "metadata": {},
   "outputs": [
    {
     "name": "stdout",
     "output_type": "stream",
     "text": [
      "[5, 4, 3, 2, 1]\n"
     ]
    }
   ],
   "source": [
    "items = [1,2,3,4,5]\n",
    "no_of_items = len(items)\n",
    "reversed_items = []\n",
    "for reverse_item in items:\n",
    "    no_of_items -= 1\n",
    "    reversed_items.append(items[no_of_items])\n",
    "print(reversed_items)"
   ]
  },
  {
   "cell_type": "markdown",
   "id": "7a26ede6-ffb2-4d31-9d09-6aa5437d6385",
   "metadata": {},
   "source": [
    "## 3. Find and display the largest number of a list without using built-in function max(). Your program should ask the user to input values in list from keyboard."
   ]
  },
  {
   "cell_type": "code",
   "execution_count": 62,
   "id": "355b8763-ec09-46a3-9eba-0d247c046ade",
   "metadata": {},
   "outputs": [
    {
     "name": "stdin",
     "output_type": "stream",
     "text": [
      "Enter list of numbers to get LARGEST number. Make sure to add space after each num 1 3 5 7 2 45 54 3 5 7 2 77 5 7 8\n"
     ]
    },
    {
     "name": "stdout",
     "output_type": "stream",
     "text": [
      "List of Items Enter: 1 3 5 7 2 45 54 3 5 7 2 77 5 7 8\n",
      "Largest num among the list: 77\n"
     ]
    }
   ],
   "source": [
    "items_input = input('Enter list of numbers to get LARGEST number. Make sure to add space after each num')\n",
    "items = items_input.split()\n",
    "largest_num = 0\n",
    "print('List of Items Enter: '+ items_input)\n",
    "for item in items:\n",
    "    item = int(item)\n",
    "    for nested_item in items:\n",
    "        nested_item = int(nested_item)\n",
    "        if nested_item > largest_num:\n",
    "            largest_num = nested_item\n",
    "print('Largest num among the list:', largest_num)"
   ]
  },
  {
   "cell_type": "markdown",
   "id": "f64359eb-b5ac-486f-af62-c7fbcbdeca91",
   "metadata": {},
   "source": [
    "## 4. Write a program that rotates the element of a list so that the element at the first index moves to the second index, the element in the second index moves to the third index, etc., and the element in the last index moves to the first index."
   ]
  },
  {
   "cell_type": "code",
   "execution_count": 84,
   "id": "c032e4c1-d344-4d8b-a6d2-7289ad7d0834",
   "metadata": {},
   "outputs": [
    {
     "name": "stdout",
     "output_type": "stream",
     "text": [
      "[5, 1, 2, 3, 4]\n"
     ]
    }
   ],
   "source": [
    "items = [1,2,3,4,5]\n",
    "item_index = 0\n",
    "start_index = 0\n",
    "reordered_items = []\n",
    "for reverse_item in items:\n",
    "    if item_index > 0:\n",
    "        reordered_items.append(items[start_index - 1])\n",
    "    else:\n",
    "        reordered_items.append(items[len(items) -1])\n",
    "    item_index += 1\n",
    "    start_index += 1\n",
    "        \n",
    "print(reordered_items)\n"
   ]
  },
  {
   "cell_type": "markdown",
   "id": "5f483d99-3e7b-4669-87f7-356656411219",
   "metadata": {},
   "source": [
    "## 5. Write a program that input a string and ask user to delete a given word from a string."
   ]
  },
  {
   "cell_type": "code",
   "execution_count": 88,
   "id": "be746f93-86a9-498d-957f-1530d93d39ea",
   "metadata": {},
   "outputs": [
    {
     "name": "stdin",
     "output_type": "stream",
     "text": [
      "Add a sentence Hello my name is Aqib\n",
      "Delete word from sentence Hello\n"
     ]
    },
    {
     "name": "stdout",
     "output_type": "stream",
     "text": [
      " my name is Aqib\n"
     ]
    }
   ],
   "source": [
    "user_input = input('Add a sentence')\n",
    "delete_word = input('Delete word from sentence')\n",
    "updated_sentence = user_input.replace(delete_word, '')\n",
    "print(updated_sentence)\n"
   ]
  },
  {
   "cell_type": "markdown",
   "id": "e8522ff3-3e4a-4698-b88e-29a23c700a5d",
   "metadata": {},
   "source": [
    "## 6. Write a program that reads a string from the user containing a date in the form mm/dd/yyyy. It should print the date in the form March 12, 2021."
   ]
  },
  {
   "cell_type": "code",
   "execution_count": 101,
   "id": "5a6d8250-4cc4-4245-ad4d-a029f582ad88",
   "metadata": {},
   "outputs": [
    {
     "name": "stdin",
     "output_type": "stream",
     "text": [
      "Enter date 2/11/2005\n"
     ]
    },
    {
     "name": "stdout",
     "output_type": "stream",
     "text": [
      "['2', '11', '2005']\n"
     ]
    },
    {
     "ename": "TypeError",
     "evalue": "'str' object cannot be interpreted as an integer",
     "output_type": "error",
     "traceback": [
      "\u001b[1;31m---------------------------------------------------------------------------\u001b[0m",
      "\u001b[1;31mTypeError\u001b[0m                                 Traceback (most recent call last)",
      "Cell \u001b[1;32mIn[101], line 9\u001b[0m\n\u001b[0;32m      5\u001b[0m \u001b[38;5;28mprint\u001b[39m(splitted_date);\n\u001b[0;32m      6\u001b[0m \u001b[38;5;66;03m#input_month = int(input('Enter a month'))\u001b[39;00m\n\u001b[0;32m      7\u001b[0m \u001b[38;5;66;03m#input_day = int(input('Enter a day'))\u001b[39;00m\n\u001b[0;32m      8\u001b[0m \u001b[38;5;66;03m#input_year = int(input('Enter year'))\u001b[39;00m\n\u001b[1;32m----> 9\u001b[0m x \u001b[38;5;241m=\u001b[39m datetime\u001b[38;5;241m.\u001b[39mdatetime(splitted_date[\u001b[38;5;241m2\u001b[39m], splitted_date[\u001b[38;5;241m1\u001b[39m], splitted_date[\u001b[38;5;241m0\u001b[39m])\n\u001b[0;32m     10\u001b[0m \u001b[38;5;28mprint\u001b[39m(x\u001b[38;5;241m.\u001b[39mstrftime(\u001b[38;5;124m'\u001b[39m\u001b[38;5;124m%\u001b[39m\u001b[38;5;124mB \u001b[39m\u001b[38;5;132;01m%d\u001b[39;00m\u001b[38;5;124m, \u001b[39m\u001b[38;5;124m%\u001b[39m\u001b[38;5;124mY\u001b[39m\u001b[38;5;124m'\u001b[39m))\n",
      "\u001b[1;31mTypeError\u001b[0m: 'str' object cannot be interpreted as an integer"
     ]
    }
   ],
   "source": [
    "import datetime\n",
    "input_date = input('Enter date')\n",
    "splitted_date = input_date.split('/')\n",
    "\n",
    "print(splitted_date);\n",
    "#input_month = int(input('Enter a month'))\n",
    "#input_day = int(input('Enter a day'))\n",
    "#input_year = int(input('Enter year'))\n",
    "x = datetime.datetime(int(splitted_date[2]), int(splitted_date[1]), int(splitted_date[0]))\n",
    "print(x.strftime('%B %d, %Y'))"
   ]
  },
  {
   "cell_type": "code",
   "execution_count": null,
   "id": "67e21c6c-7469-4e9f-8ad6-6d4193325c8e",
   "metadata": {},
   "outputs": [],
   "source": []
  },
  {
   "cell_type": "code",
   "execution_count": null,
   "id": "fd7c7e12-5354-4523-a352-e9e3bfa8477a",
   "metadata": {},
   "outputs": [],
   "source": []
  }
 ],
 "metadata": {
  "kernelspec": {
   "display_name": "Python 3 (ipykernel)",
   "language": "python",
   "name": "python3"
  },
  "language_info": {
   "codemirror_mode": {
    "name": "ipython",
    "version": 3
   },
   "file_extension": ".py",
   "mimetype": "text/x-python",
   "name": "python",
   "nbconvert_exporter": "python",
   "pygments_lexer": "ipython3",
   "version": "3.13.5"
  }
 },
 "nbformat": 4,
 "nbformat_minor": 5
}
