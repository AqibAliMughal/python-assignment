{
 "cells": [
  {
   "cell_type": "markdown",
   "id": "79a253ee-53e2-4353-8ee3-a29d43b1c781",
   "metadata": {},
   "source": [
    "## 1. Write a program that accepts a list from user and print the alternate element of list."
   ]
  },
  {
   "cell_type": "code",
   "execution_count": 6,
   "id": "77787e1e-cdd3-4a89-9371-ee8d5908ec78",
   "metadata": {},
   "outputs": [
    {
     "name": "stdout",
     "output_type": "stream",
     "text": [
      "1\n",
      "2\n",
      "3\n",
      "4\n",
      "5\n"
     ]
    }
   ],
   "source": [
    "items = [1,2,3,4,5]\n",
    "for item in items:\n",
    "    print(item)"
   ]
  },
  {
   "cell_type": "markdown",
   "id": "a14f75ad-116f-4835-859d-35d206c630a3",
   "metadata": {},
   "source": [
    "## 2. Write a program that accepts a list from user. Your program should reverse the content of list and display it. Do not use reverse() method."
   ]
  },
  {
   "cell_type": "code",
   "execution_count": 29,
   "id": "da2522d0-936b-4220-a571-7dde1fb92ca0",
   "metadata": {},
   "outputs": [
    {
     "name": "stdout",
     "output_type": "stream",
     "text": [
      "[5, 4, 3, 2, 1]\n"
     ]
    }
   ],
   "source": [
    "items = [1,2,3,4,5]\n",
    "no_of_items = len(items)\n",
    "reversed_items = []\n",
    "for reverse_item in items:\n",
    "    no_of_items -= 1\n",
    "    reversed_items.append(items[no_of_items])\n",
    "print(reversed_items)"
   ]
  },
  {
   "cell_type": "markdown",
   "id": "7a26ede6-ffb2-4d31-9d09-6aa5437d6385",
   "metadata": {},
   "source": [
    "## 3. Find and display the largest number of a list without using built-in function max(). Your program should ask the user to input values in list from keyboard."
   ]
  },
  {
   "cell_type": "code",
   "execution_count": 62,
   "id": "355b8763-ec09-46a3-9eba-0d247c046ade",
   "metadata": {},
   "outputs": [
    {
     "name": "stdin",
     "output_type": "stream",
     "text": [
      "Enter list of numbers to get LARGEST number. Make sure to add space after each num 1 3 5 7 2 45 54 3 5 7 2 77 5 7 8\n"
     ]
    },
    {
     "name": "stdout",
     "output_type": "stream",
     "text": [
      "List of Items Enter: 1 3 5 7 2 45 54 3 5 7 2 77 5 7 8\n",
      "Largest num among the list: 77\n"
     ]
    }
   ],
   "source": [
    "items_input = input('Enter list of numbers to get LARGEST number. Make sure to add space after each num')\n",
    "items = items_input.split()\n",
    "largest_num = 0\n",
    "print('List of Items Enter: '+ items_input)\n",
    "for item in items:\n",
    "    item = int(item)\n",
    "    for nested_item in items:\n",
    "        nested_item = int(nested_item)\n",
    "        if nested_item > largest_num:\n",
    "            largest_num = nested_item\n",
    "print('Largest num among the list:', largest_num)"
   ]
  },
  {
   "cell_type": "markdown",
   "id": "f64359eb-b5ac-486f-af62-c7fbcbdeca91",
   "metadata": {},
   "source": [
    "## 4. Write a program that rotates the element of a list so that the element at the first index moves to the second index, the element in the second index moves to the third index, etc., and the element in the last index moves to the first index."
   ]
  },
  {
   "cell_type": "code",
   "execution_count": 84,
   "id": "c032e4c1-d344-4d8b-a6d2-7289ad7d0834",
   "metadata": {},
   "outputs": [
    {
     "name": "stdout",
     "output_type": "stream",
     "text": [
      "[5, 1, 2, 3, 4]\n"
     ]
    }
   ],
   "source": [
    "items = [1,2,3,4,5]\n",
    "item_index = 0\n",
    "start_index = 0\n",
    "reordered_items = []\n",
    "for reverse_item in items:\n",
    "    if item_index > 0:\n",
    "        reordered_items.append(items[start_index - 1])\n",
    "    else:\n",
    "        reordered_items.append(items[len(items) -1])\n",
    "    item_index += 1\n",
    "    start_index += 1\n",
    "        \n",
    "print(reordered_items)\n"
   ]
  },
  {
   "cell_type": "markdown",
   "id": "5f483d99-3e7b-4669-87f7-356656411219",
   "metadata": {},
   "source": [
    "## 5. Write a program that input a string and ask user to delete a given word from a string."
   ]
  },
  {
   "cell_type": "code",
   "execution_count": 88,
   "id": "be746f93-86a9-498d-957f-1530d93d39ea",
   "metadata": {},
   "outputs": [
    {
     "name": "stdin",
     "output_type": "stream",
     "text": [
      "Add a sentence Hello my name is Aqib\n",
      "Delete word from sentence Hello\n"
     ]
    },
    {
     "name": "stdout",
     "output_type": "stream",
     "text": [
      " my name is Aqib\n"
     ]
    }
   ],
   "source": [
    "user_input = input('Add a sentence')\n",
    "delete_word = input('Delete word from sentence')\n",
    "updated_sentence = user_input.replace(delete_word, '')\n",
    "print(updated_sentence)\n"
   ]
  },
  {
   "cell_type": "markdown",
   "id": "e8522ff3-3e4a-4698-b88e-29a23c700a5d",
   "metadata": {},
   "source": [
    "## 6. Write a program that reads a string from the user containing a date in the form mm/dd/yyyy. It should print the date in the form March 12, 2021."
   ]
  },
  {
   "cell_type": "code",
   "execution_count": 102,
   "id": "5a6d8250-4cc4-4245-ad4d-a029f582ad88",
   "metadata": {},
   "outputs": [
    {
     "name": "stdin",
     "output_type": "stream",
     "text": [
      "Enter date 2/11/2000\n"
     ]
    },
    {
     "name": "stdout",
     "output_type": "stream",
     "text": [
      "['2', '11', '2000']\n",
      "November 02, 2000\n"
     ]
    }
   ],
   "source": [
    "import datetime\n",
    "input_date = input('Enter date in the format mm/dd/yyyy: ')\n",
    "splitted_date = input_date.split('/')\n",
    "x = datetime.datetime(int(splitted_date[2]), int(splitted_date[1]), int(splitted_date[0]))\n",
    "print(x.strftime('%B %d, %Y'))"
   ]
  },
  {
   "cell_type": "markdown",
   "id": "354b5b13-cc23-40ad-a14d-c9503896c782",
   "metadata": {},
   "source": [
    "## 7. Write a program with a function that accepts a string from keyboard and create a new string after converting character of each word capitalized. For instance, if the sentence is \"stop and smell the roses.\" the output should be \"Stop And Smell The Roses\""
   ]
  },
  {
   "cell_type": "code",
   "execution_count": 107,
   "id": "fd7c7e12-5354-4523-a352-e9e3bfa8477a",
   "metadata": {},
   "outputs": [
    {
     "name": "stdin",
     "output_type": "stream",
     "text": [
      "Enter a sentence:  hello my name is Aqib, i'm student of cde\n"
     ]
    },
    {
     "name": "stdout",
     "output_type": "stream",
     "text": [
      " Hello My Name Is Aqib, I'M Student Of Cde\n"
     ]
    }
   ],
   "source": [
    "user_sentence = input('Enter a sentence: ')\n",
    "sentence_list = user_sentence.split(' ')\n",
    "capitalized_sentence = '';\n",
    "for word in sentence_list:\n",
    "    capitalized_sentence += ' '+ word.title()\n",
    "print(capitalized_sentence)"
   ]
  },
  {
   "cell_type": "markdown",
   "id": "2f6842c9-a765-4158-9d2f-a4c1fbbbe0f4",
   "metadata": {},
   "source": [
    "## 8. Find the sum of each row of matrix of size m x n. For example for the following matrix output will be like this:\n",
    "- 2 11 7\n",
    "- 12 5 2\n",
    "- 9 15 8\n",
    "- 3 10 42"
   ]
  },
  {
   "cell_type": "code",
   "execution_count": 115,
   "id": "ca60f990-996e-4861-bde5-a670d13eb6af",
   "metadata": {},
   "outputs": [
    {
     "name": "stdout",
     "output_type": "stream",
     "text": [
      "Sum of row 1 is: 32\n",
      "Sum of row 2 is: 31\n",
      "Sum of row 3 is: 63\n"
     ]
    }
   ],
   "source": [
    "matrix_list = [[2,11,7, 12], [5,2,9,15], [8,3,10,42]]\n",
    "rowNo = 1\n",
    "for lists in matrix_list:\n",
    "    row_wise_sum = 0\n",
    "    for list in lists:\n",
    "        row_wise_sum += list\n",
    "    print(f\"Sum of row {rowNo} is: {row_wise_sum}\")\n",
    "    rowNo += 1"
   ]
  },
  {
   "cell_type": "markdown",
   "id": "3ceeea62-6af7-4f80-9cde-265ed42bf3c7",
   "metadata": {},
   "source": [
    "## 9. Write a program to add two matrices of size n x m."
   ]
  },
  {
   "cell_type": "code",
   "execution_count": 187,
   "id": "2f37af78-9ed0-40aa-a23a-2914d203868e",
   "metadata": {},
   "outputs": [
    {
     "name": "stdout",
     "output_type": "stream",
     "text": [
      "2\n",
      "4\n",
      "7\n",
      "22\n"
     ]
    }
   ],
   "source": [
    "matrix_list = [[2,11,7, 12], [5,2,9,15]]\n",
    "column_no = 0\n",
    "for lists in matrix_list:\n",
    "    for list in lists:\n",
    "        sum = 0\n",
    "        for list_no in range(0, len(matrix_list)):\n",
    "            total_column_items = len(matrix_list[list_no]) - 1\n",
    "            if column_no < len(matrix_list[list_no]):\n",
    "                sum += matrix_list[list_no][column_no]\n",
    "                print(sum)\n",
    "            column_no += 1"
   ]
  },
  {
   "cell_type": "code",
   "execution_count": 188,
   "id": "ebc7b34c-507a-4c77-9c60-8682697fd1b0",
   "metadata": {},
   "outputs": [
    {
     "name": "stdin",
     "output_type": "stream",
     "text": [
      "Enter your Name Ahmed\n",
      "Enter your Email ahmed@gmail.com\n",
      "Enter your Password 123\n"
     ]
    },
    {
     "name": "stdout",
     "output_type": "stream",
     "text": [
      "::Add your data to register in the system::\n",
      "::Enter your credentials to login to the system::\n"
     ]
    },
    {
     "name": "stdin",
     "output_type": "stream",
     "text": [
      "Enter your Name Ahmed\n",
      "Enter your Email ahmed@gmail.com\n",
      "Enter your Password 123\n"
     ]
    },
    {
     "name": "stdout",
     "output_type": "stream",
     "text": [
      "Verified User\n",
      "Invalid credentials\n"
     ]
    }
   ],
   "source": [
    "## CLASS ASSIGNMENT REGISTER/LOGIN USER\n",
    "list_of_users = [];\n",
    "def registerUser(name, email, password):\n",
    "    list_of_users.append({'name': name, 'email': email, 'password': password})\n",
    "\n",
    "def loginUser(name, email, password):\n",
    "    for user in list_of_users:\n",
    "        if user['name'] == name and user['email'] == email and user['password'] == password:\n",
    "            print('Verified User')\n",
    "        else:\n",
    "            print('Invalid credentials')\n",
    "\n",
    "user_name = input('Enter your Name')\n",
    "user_email = input('Enter your Email')\n",
    "user_password = input('Enter your Password')\n",
    "print('::Add your data to register in the system::')\n",
    "registerUser(user_name, user_email, user_password)\n",
    "registerUser('Ali', 'ali@gmail.com', 'abc123')\n",
    "\n",
    "print('::Enter your credentials to login to the system::')\n",
    "\n",
    "login_user_name = input('Enter your Name')\n",
    "login_user_email = input('Enter your Email')\n",
    "login_user_password = input('Enter your Password')\n",
    "\n",
    "loginUser(login_user_name, login_user_email, login_user_password)\n"
   ]
  },
  {
   "cell_type": "code",
   "execution_count": null,
   "id": "af53675b-3b62-400f-8ba5-7b5a2b408652",
   "metadata": {},
   "outputs": [],
   "source": []
  }
 ],
 "metadata": {
  "kernelspec": {
   "display_name": "Python 3 (ipykernel)",
   "language": "python",
   "name": "python3"
  },
  "language_info": {
   "codemirror_mode": {
    "name": "ipython",
    "version": 3
   },
   "file_extension": ".py",
   "mimetype": "text/x-python",
   "name": "python",
   "nbconvert_exporter": "python",
   "pygments_lexer": "ipython3",
   "version": "3.13.5"
  }
 },
 "nbformat": 4,
 "nbformat_minor": 5
}
