{
 "cells": [
  {
   "cell_type": "markdown",
   "id": "7eeb1251-62e0-49a9-9cc9-044ececef893",
   "metadata": {},
   "source": [
    "### 1. Write a Python program to create a class representing a Circle. Include methods to calculate its area and perimeter."
   ]
  },
  {
   "cell_type": "code",
   "execution_count": 7,
   "id": "72967c41-40df-466d-b7f7-e38b7710befc",
   "metadata": {},
   "outputs": [
    {
     "name": "stdout",
     "output_type": "stream",
     "text": [
      "28.269\n",
      "18.846\n"
     ]
    }
   ],
   "source": [
    "pi_value = 3.141\n",
    "class Circle:\n",
    "    def __init__(self, radius):\n",
    "        self.radius = radius\n",
    "\n",
    "    def area(self):\n",
    "        return pi_value * self.radius ** 2\n",
    "\n",
    "    def perimeter(self):\n",
    "        return 2 * pi_value * self.radius\n",
    "\n",
    "circle = Circle(3)\n",
    "print(circle.area())\n",
    "print(circle.perimeter())"
   ]
  },
  {
   "cell_type": "markdown",
   "id": "e60df0d7-0ff4-4338-b524-0ceab09290fb",
   "metadata": {},
   "source": [
    "### 2. Write a Python program to create a person class. Include attributes like name, country and date of birth. Implement a method to determine the person's age."
   ]
  },
  {
   "cell_type": "code",
   "execution_count": 9,
   "id": "17cb2f91-c235-4958-b032-dc916e32e090",
   "metadata": {},
   "outputs": [
    {
     "name": "stdout",
     "output_type": "stream",
     "text": [
      "Name: Aqib Ali\n",
      "Country: KHI\n",
      "Date of Birth: 1997-12-23\n",
      "Age: 28\n"
     ]
    }
   ],
   "source": [
    "from datetime import datetime\n",
    "\n",
    "class Person:\n",
    "    def __init__(self, name, country, date_of_birth):\n",
    "        self.name = name\n",
    "        self.country = country\n",
    "        self.date_of_birth = datetime.strptime(date_of_birth, \"%Y-%m-%d\")\n",
    "        \n",
    "    def calculate_and_get_age(self):\n",
    "        today = datetime.today()\n",
    "        age = today.year - self.date_of_birth.year\n",
    "        if today.month < self.date_of_birth.month or (today.month == self.date_of_birth.month and today.day < self.date_of_birth.day):\n",
    "            age -= 1\n",
    "        return age\n",
    "\n",
    "    ### Method to display person's information ###\n",
    "    def user_data(self):\n",
    "        age = self.calculate_and_get_age()\n",
    "        print(f\"Name: {self.name}\")\n",
    "        print(f\"Country: {self.country}\")\n",
    "        print(f\"Date of Birth: {self.date_of_birth.strftime('%Y-%m-%d')}\")\n",
    "        print(f\"Age: {age}\")\n",
    "\n",
    "person1 = Person(\"Aqib Ali\", \"KHI\", \"1997-12-23\")\n",
    "person1.user_data()\n"
   ]
  },
  {
   "cell_type": "markdown",
   "id": "7555e666-3b07-4db5-9033-04b76b7c2a3d",
   "metadata": {},
   "source": [
    "### 3. Write a Python program to create a calculator class. Include methods for basic arithmetic operations.\n"
   ]
  },
  {
   "cell_type": "code",
   "execution_count": 13,
   "id": "5c6631b1-683e-4546-89b3-14e1b7e669ea",
   "metadata": {},
   "outputs": [
    {
     "name": "stdout",
     "output_type": "stream",
     "text": [
      "Addition = 27\n",
      "Subtraction = 21\n"
     ]
    }
   ],
   "source": [
    "num_one = 3\n",
    "num_two = 24\n",
    "class Calculator:\n",
    "    def add(self, a, b):\n",
    "        return a + b\n",
    "\n",
    "    def subtract(self, a, b):\n",
    "        if a > b: \n",
    "            return a - b\n",
    "        else:\n",
    "            return b - a\n",
    "\n",
    "    def multiply(self, a, b):\n",
    "        return a * b\n",
    "\n",
    "    def divide(self, a, b):\n",
    "        if b == 0:\n",
    "            return \"Error: Division by zero is not allowed.\"\n",
    "        return a / b\n",
    "\n",
    "calc = Calculator()\n",
    "print(f\"Addition = {calc.add(num_one, num_two)}\")\n",
    "print(f\"Subtraction = {calc.subtract(num_one, num_two)}\")\n"
   ]
  },
  {
   "cell_type": "code",
   "execution_count": null,
   "id": "66794567-f7ff-47c3-b95b-a32e6b27444f",
   "metadata": {},
   "outputs": [],
   "source": []
  }
 ],
 "metadata": {
  "kernelspec": {
   "display_name": "Python 3 (ipykernel)",
   "language": "python",
   "name": "python3"
  },
  "language_info": {
   "codemirror_mode": {
    "name": "ipython",
    "version": 3
   },
   "file_extension": ".py",
   "mimetype": "text/x-python",
   "name": "python",
   "nbconvert_exporter": "python",
   "pygments_lexer": "ipython3",
   "version": "3.13.5"
  }
 },
 "nbformat": 4,
 "nbformat_minor": 5
}
