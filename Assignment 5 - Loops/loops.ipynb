{
 "cells": [
  {
   "cell_type": "markdown",
   "id": "5a6730be-cb06-4be4-a8ea-d804071d5faa",
   "metadata": {},
   "source": [
    "### 1. Write a Python program to print the numbers from 1 to 10 using a for loop."
   ]
  },
  {
   "cell_type": "code",
   "execution_count": 1,
   "id": "65a9ef2b-b896-45d3-914f-9cb2dd3c829a",
   "metadata": {},
   "outputs": [
    {
     "name": "stdout",
     "output_type": "stream",
     "text": [
      "1\n",
      "2\n",
      "3\n",
      "4\n",
      "5\n",
      "6\n",
      "7\n",
      "8\n",
      "9\n",
      "10\n"
     ]
    }
   ],
   "source": [
    "for i in range(1, 11):   \n",
    "    print(i)"
   ]
  },
  {
   "cell_type": "markdown",
   "id": "ad2e6c3a-cba7-4368-ae15-f1b1b314c1c8",
   "metadata": {},
   "source": [
    "### 2. Write a Python program to print the numbers from 20 to 1 using a while loop"
   ]
  },
  {
   "cell_type": "code",
   "execution_count": 4,
   "id": "3855331a-58e4-4a21-ac84-dab165e7feba",
   "metadata": {},
   "outputs": [
    {
     "name": "stdout",
     "output_type": "stream",
     "text": [
      "20\n",
      "19\n",
      "18\n",
      "17\n",
      "16\n",
      "15\n",
      "14\n",
      "13\n",
      "12\n",
      "11\n",
      "10\n",
      "9\n",
      "8\n",
      "7\n",
      "6\n",
      "5\n",
      "4\n",
      "3\n",
      "2\n",
      "1\n"
     ]
    }
   ],
   "source": [
    "i = 20       \n",
    "while i >= 1:      \n",
    "    print(i)\n",
    "    i -= 1   "
   ]
  },
  {
   "cell_type": "markdown",
   "id": "a30586a2-67e8-45ef-9893-6e7d13152a83",
   "metadata": {},
   "source": [
    "### 3. Write a program to print even numbers from 1 to 10."
   ]
  },
  {
   "cell_type": "code",
   "execution_count": 5,
   "id": "d4f27809-1c5d-42ea-85e5-28193f460bf1",
   "metadata": {},
   "outputs": [
    {
     "name": "stdout",
     "output_type": "stream",
     "text": [
      "2\n",
      "4\n",
      "6\n",
      "8\n",
      "10\n"
     ]
    }
   ],
   "source": [
    "for i in range(1, 11):  \n",
    "    if i % 2 == 0:      \n",
    "        print(i)"
   ]
  },
  {
   "cell_type": "markdown",
   "id": "bf4832c8-5a69-4671-9c3c-d5a04c434d3a",
   "metadata": {},
   "source": [
    "### 4. Write a program that prompts the user to enter a number n and prints all the numbers from 1 to n"
   ]
  },
  {
   "cell_type": "code",
   "execution_count": 6,
   "id": "acc00535-d041-4458-8735-e000900a3aa4",
   "metadata": {},
   "outputs": [
    {
     "name": "stdin",
     "output_type": "stream",
     "text": [
      "Enter a number:  4\n"
     ]
    },
    {
     "name": "stdout",
     "output_type": "stream",
     "text": [
      "1\n",
      "2\n",
      "3\n",
      "4\n"
     ]
    }
   ],
   "source": [
    "n = int(input(\"Enter a number: \"))   \n",
    "\n",
    "for i in range(1, n+1):   \n",
    "    print(i)"
   ]
  },
  {
   "cell_type": "markdown",
   "id": "aef21181-fe1e-41c9-a4c9-d2548d97cc57",
   "metadata": {},
   "source": [
    "### 5. Write a program that prompts the user to enter a number n, and then prints all the odd numbers between 1 and n."
   ]
  },
  {
   "cell_type": "code",
   "execution_count": 8,
   "id": "f5cbf9bf-ec5d-491d-83fe-747c242385c8",
   "metadata": {},
   "outputs": [
    {
     "name": "stdin",
     "output_type": "stream",
     "text": [
      "Enter a number:  17\n"
     ]
    },
    {
     "name": "stdout",
     "output_type": "stream",
     "text": [
      "1\n",
      "3\n",
      "5\n",
      "7\n",
      "9\n",
      "11\n",
      "13\n",
      "15\n",
      "17\n"
     ]
    }
   ],
   "source": [
    "n = int(input(\"Enter a number: \"))\n",
    "\n",
    "for i in range(1, n+1):   \n",
    "    if i % 2 != 0:          \n",
    "        print(i)"
   ]
  },
  {
   "cell_type": "markdown",
   "id": "920d9e41-4487-4bc0-837d-c45525a056cd",
   "metadata": {},
   "source": [
    "### 6. Write a program that prints 'Happy Birthday!' five times on screen."
   ]
  },
  {
   "cell_type": "code",
   "execution_count": 9,
   "id": "26425c0f-41d7-4ee8-8e39-de58f64c865e",
   "metadata": {},
   "outputs": [
    {
     "name": "stdout",
     "output_type": "stream",
     "text": [
      "Happy Birthday!\n",
      "Happy Birthday!\n",
      "Happy Birthday!\n",
      "Happy Birthday!\n",
      "Happy Birthday!\n"
     ]
    }
   ],
   "source": [
    "for i in range(5):\n",
    "    print(\"Happy Birthday!\")"
   ]
  },
  {
   "cell_type": "markdown",
   "id": "dc5dc6b2-2c8d-406b-bdad-45df7f393d20",
   "metadata": {},
   "source": [
    "### 7. Write a program that takes a number n as input from the user and generates the first n terms of the series formed by squaring the natural numbers."
   ]
  },
  {
   "cell_type": "code",
   "execution_count": 10,
   "id": "aeee25a3-509c-4d1e-8fb6-57ecc20cef7d",
   "metadata": {},
   "outputs": [
    {
     "name": "stdin",
     "output_type": "stream",
     "text": [
      "Enter a number:  5\n"
     ]
    },
    {
     "name": "stdout",
     "output_type": "stream",
     "text": [
      "1\n",
      "4\n",
      "9\n",
      "16\n",
      "25\n"
     ]
    }
   ],
   "source": [
    "n = int(input(\"Enter a number: \"))\n",
    "\n",
    "for i in range(1, n+1):  \n",
    "    print(i*i)     "
   ]
  },
  {
   "cell_type": "markdown",
   "id": "fde1038c-a47d-497c-8376-38457ccd455e",
   "metadata": {},
   "source": [
    "### 8. Write a program that prompts the user to input a number and prints its multiplication table."
   ]
  },
  {
   "cell_type": "code",
   "execution_count": 11,
   "id": "ccb75cb6-e3a4-4ed7-af74-cb50d1147cd1",
   "metadata": {},
   "outputs": [
    {
     "name": "stdin",
     "output_type": "stream",
     "text": [
      "Enter a number:  4\n"
     ]
    },
    {
     "name": "stdout",
     "output_type": "stream",
     "text": [
      "4 x 1 = 4\n",
      "4 x 2 = 8\n",
      "4 x 3 = 12\n",
      "4 x 4 = 16\n",
      "4 x 5 = 20\n",
      "4 x 6 = 24\n",
      "4 x 7 = 28\n",
      "4 x 8 = 32\n",
      "4 x 9 = 36\n",
      "4 x 10 = 40\n"
     ]
    }
   ],
   "source": [
    "n = int(input(\"Enter a number: \"))\n",
    "\n",
    "for i in range(1, 11):   \n",
    "    print(n, \"x\", i, \"=\", n*i)"
   ]
  },
  {
   "cell_type": "markdown",
   "id": "f85ab260-44a3-445e-976b-da02ed8ba035",
   "metadata": {},
   "source": [
    "### 9. Write a Python program to print the first 8 terms of an arithmetic progression starting with 3 and having a common difference of 4. The program should output the following sequence: 3 7 11 15 19 23 27 31"
   ]
  },
  {
   "cell_type": "code",
   "execution_count": 12,
   "id": "7a42fb5d-d617-4206-8e0c-ebb3b2c7e76e",
   "metadata": {},
   "outputs": [
    {
     "name": "stdout",
     "output_type": "stream",
     "text": [
      "3\n",
      "7\n",
      "11\n",
      "15\n",
      "19\n",
      "23\n",
      "27\n",
      "31\n"
     ]
    }
   ],
   "source": [
    "a = 3  \n",
    "d = 4  \n",
    "\n",
    "for i in range(8):\n",
    "    print(a + i*d)"
   ]
  },
  {
   "cell_type": "markdown",
   "id": "9022f9c1-4397-4312-9763-310ce6c30116",
   "metadata": {},
   "source": [
    "### 10. Write a Python program to print the first 6 terms of a geometric sequence starting with 2 and having a common ratio of 3. The program should output the following sequence: 2 6 18 54 162 486"
   ]
  },
  {
   "cell_type": "code",
   "execution_count": 14,
   "id": "a8049604-c231-4958-a9a7-75e7f84e62da",
   "metadata": {},
   "outputs": [
    {
     "name": "stdout",
     "output_type": "stream",
     "text": [
      "2\n",
      "6\n",
      "18\n",
      "54\n",
      "162\n",
      "486\n"
     ]
    }
   ],
   "source": [
    "a = 2   \n",
    "r = 3  \n",
    "\n",
    "for i in range(6):   \n",
    "    print(a * (r ** i))"
   ]
  },
  {
   "cell_type": "markdown",
   "id": "eb94492e-e532-490e-867a-e78e388efbd2",
   "metadata": {},
   "source": [
    "### 11. Write a program that asks the user for a positive integer value. The program should calculate the sum of all the integers from 1 up to the number entered. For example, if the user enters 20, the loop will find the sum of 1, 2, 3, 4, ... 20.\n"
   ]
  },
  {
   "cell_type": "code",
   "execution_count": 15,
   "id": "0c145514-5d3c-403b-a74b-3cc71a1b00d3",
   "metadata": {},
   "outputs": [
    {
     "name": "stdin",
     "output_type": "stream",
     "text": [
      "Enter a positive integer:  4\n"
     ]
    },
    {
     "name": "stdout",
     "output_type": "stream",
     "text": [
      "The sum of numbers from 1 to 4 is: 10\n"
     ]
    }
   ],
   "source": [
    "n = int(input(\"Enter a positive integer: \"))\n",
    "\n",
    "total = 0\n",
    "for i in range(1, n + 1):\n",
    "    total += i  \n",
    "\n",
    "print(\"The sum of numbers from 1 to\", n, \"is:\", total)"
   ]
  },
  {
   "cell_type": "markdown",
   "id": "82ff5f46-7b20-4481-a3de-37e5b5864c07",
   "metadata": {},
   "source": [
    "### 13. Write a program that prompts the user to enter a number and repeats this process 5 times. The program should accumulate the numbers entered and then display the final\n"
   ]
  },
  {
   "cell_type": "code",
   "execution_count": 16,
   "id": "6f3f9173-1a92-45ea-98b5-73bef611ffda",
   "metadata": {},
   "outputs": [
    {
     "name": "stdin",
     "output_type": "stream",
     "text": [
      "Enter a number:  2\n",
      "Enter a number:  4\n",
      "Enter a number:  6\n",
      "Enter a number:  8\n",
      "Enter a number:  10\n"
     ]
    },
    {
     "name": "stdout",
     "output_type": "stream",
     "text": [
      "The final running total is: 30\n"
     ]
    }
   ],
   "source": [
    "total = 0  \n",
    "\n",
    "for i in range(5):  \n",
    "    num = int(input(\"Enter a number: \"))\n",
    "    total += num   \n",
    "\n",
    "print(\"The final running total is:\", total)"
   ]
  },
  {
   "cell_type": "markdown",
   "id": "3330d4b1-006c-4d98-ae5b-78fd4cb14b08",
   "metadata": {},
   "source": [
    "### 14. Write a program that prompts the user to enter a positive integer and calculates its\n"
   ]
  },
  {
   "cell_type": "code",
   "execution_count": null,
   "id": "8f728212-a42b-4834-967b-b340f6d34152",
   "metadata": {},
   "outputs": [],
   "source": []
  }
 ],
 "metadata": {
  "kernelspec": {
   "display_name": "Python 3 (ipykernel)",
   "language": "python",
   "name": "python3"
  },
  "language_info": {
   "codemirror_mode": {
    "name": "ipython",
    "version": 3
   },
   "file_extension": ".py",
   "mimetype": "text/x-python",
   "name": "python",
   "nbconvert_exporter": "python",
   "pygments_lexer": "ipython3",
   "version": "3.13.5"
  }
 },
 "nbformat": 4,
 "nbformat_minor": 5
}
