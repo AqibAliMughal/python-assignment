{
 "cells": [
  {
   "cell_type": "markdown",
   "id": "ea85b621-19f4-4f0b-b622-d3a4cdb6265b",
   "metadata": {},
   "source": [
    "### 1. Print Your Name with your Father name and Date of birth using suitable escape sequence character"
   ]
  },
  {
   "cell_type": "code",
   "execution_count": 1,
   "id": "a745766e-8c1d-4447-aa42-a8c7207abcd3",
   "metadata": {},
   "outputs": [
    {
     "name": "stdout",
     "output_type": "stream",
     "text": [
      "Name: Aqib Ali \n",
      "\n",
      "Father Name: Inayat Ali \n",
      "\n",
      "DOB: 23-12-1997 \n",
      "\n"
     ]
    }
   ],
   "source": [
    "print(\"Name: Aqib Ali \\n\")\n",
    "print(\"Father Name: Inayat Ali \\n\")\n",
    "print(\"DOB: 23-12-1997 \\n\")"
   ]
  },
  {
   "cell_type": "markdown",
   "id": "1dcdb080-1327-4c19-91b2-b8b4ab9625b1",
   "metadata": {},
   "source": [
    "### 2. Write your small bio using variables and print it using print function"
   ]
  },
  {
   "cell_type": "code",
   "execution_count": 9,
   "id": "8dec99fc-467c-4805-9c40-54e4e0225ef7",
   "metadata": {},
   "outputs": [
    {
     "name": "stdout",
     "output_type": "stream",
     "text": [
      "Aqib Ali\n",
      " 23-12-1997\n",
      " Inayat Ali\n",
      " Graduation\n"
     ]
    }
   ],
   "source": [
    "name = 'Aqib Ali'\n",
    "dob = '23-12-1997'\n",
    "father_name = 'Inayat Ali'\n",
    "education = 'Graduation'\n",
    "print(name+'\\n',dob +'\\n',father_name +'\\n',education)"
   ]
  },
  {
   "cell_type": "markdown",
   "id": "f38ed01d-95e2-400a-b77d-51e3d352e261",
   "metadata": {},
   "source": [
    "### 3. Write a program in which use all the operators we can use in Python\n"
   ]
  },
  {
   "cell_type": "code",
   "execution_count": 12,
   "id": "4230137d-1e04-4245-8a4a-f2602dc7ce1c",
   "metadata": {},
   "outputs": [
    {
     "name": "stdout",
     "output_type": "stream",
     "text": [
      "Arithmetic Operators:\n",
      "a + b = 13\n",
      "a - b = 7\n",
      "a * b = 30\n",
      "a / b = 3.3333333333333335\n",
      "a // b = 3\n",
      "a % b = 1\n",
      "a ** b = 1000\n",
      "\n",
      "Assignment Operators:\n",
      "x += 2 -> 7\n",
      "x -= 1 -> 6\n",
      "x *= 3 -> 18\n",
      "x /= 2 -> 9.0\n",
      "x %= 3 -> 0.0\n",
      "x //= 2 -> 0.0\n",
      "x **= 2 -> 0.0\n",
      "\n",
      "Comparison Operators:\n",
      "a == b: False\n",
      "a != b: True\n",
      "a > b: True\n",
      "a < b: False\n",
      "a >= b: True\n",
      "a <= b: False\n",
      "\n",
      "Logical Operators:\n",
      "a > 5 and b < 5: True\n",
      "a < 5 or b < 5: True\n",
      "not(a > 5): False\n",
      "\n",
      "Bitwise Operators:\n",
      "a & b = 2\n",
      "a | b = 11\n"
     ]
    }
   ],
   "source": [
    "# 1. Arithmetic Operators\n",
    "a = 10\n",
    "b = 3\n",
    "print(\"Arithmetic Operators:\")\n",
    "print(\"a + b =\", a + b)\n",
    "print(\"a - b =\", a - b)\n",
    "print(\"a * b =\", a * b)\n",
    "print(\"a / b =\", a / b)\n",
    "print(\"a // b =\", a // b)\n",
    "print(\"a % b =\", a % b)\n",
    "print(\"a ** b =\", a ** b)\n",
    "\n",
    "# 2. Assignment Operators\n",
    "print(\"\\nAssignment Operators:\")\n",
    "x = 5\n",
    "x += 2\n",
    "print(\"x += 2 ->\", x)\n",
    "x -= 1\n",
    "print(\"x -= 1 ->\", x)\n",
    "x *= 3\n",
    "print(\"x *= 3 ->\", x)\n",
    "x /= 2\n",
    "print(\"x /= 2 ->\", x)\n",
    "x %= 3\n",
    "print(\"x %= 3 ->\", x)\n",
    "x //= 2\n",
    "print(\"x //= 2 ->\", x)\n",
    "x **= 2\n",
    "print(\"x **= 2 ->\", x)\n",
    "\n",
    "# 3. Comparison Operators\n",
    "print(\"\\nComparison Operators:\")\n",
    "print(\"a == b:\", a == b)\n",
    "print(\"a != b:\", a != b)\n",
    "print(\"a > b:\", a > b)\n",
    "print(\"a < b:\", a < b)\n",
    "print(\"a >= b:\", a >= b)\n",
    "print(\"a <= b:\", a <= b)\n",
    "\n",
    "# 4. Logical Operators\n",
    "print(\"\\nLogical Operators:\")\n",
    "print(\"a > 5 and b < 5:\", a > 5 and b < 5)\n",
    "print(\"a < 5 or b < 5:\", a < 5 or b < 5)\n",
    "print(\"not(a > 5):\", not(a > 5))\n",
    "\n",
    "# 5. Bitwise Operators\n",
    "print(\"\\nBitwise Operators:\")\n",
    "print(\"a & b =\", a & b)\n",
    "print(\"a | b =\", a | b)\n"
   ]
  },
  {
   "cell_type": "markdown",
   "id": "4a9c63a2-f050-4177-b8a3-c4727bfe06b9",
   "metadata": {},
   "source": [
    "### 4. Completes the following steps of small task:\n",
    "Mention Marks of English , Islamiat and Maths out of 100 in 3 different variables\n",
    "Mention Variable of Total Marks and assign 300 to it\n",
    "Calculate Percentage"
   ]
  },
  {
   "cell_type": "code",
   "execution_count": 18,
   "id": "03863e6b-0476-49d6-8a3e-917b4fb4e8cc",
   "metadata": {},
   "outputs": [
    {
     "name": "stdout",
     "output_type": "stream",
     "text": [
      "Percentage Obtained: 62.33%\n"
     ]
    }
   ],
   "source": [
    "english = 43\n",
    "islamiyat = 56\n",
    "maths = 88\n",
    "total_marks = 300\n",
    "percentage_obtained = ((english + islamiyat + maths) / total_marks) * 100\n",
    "print(f\"Percentage Obtained: {round(percentage_obtained, 2)}%\")"
   ]
  },
  {
   "cell_type": "code",
   "execution_count": null,
   "id": "16395eb5-e198-44dc-a971-0146427b8ca6",
   "metadata": {},
   "outputs": [],
   "source": []
  }
 ],
 "metadata": {
  "kernelspec": {
   "display_name": "Python 3 (ipykernel)",
   "language": "python",
   "name": "python3"
  },
  "language_info": {
   "codemirror_mode": {
    "name": "ipython",
    "version": 3
   },
   "file_extension": ".py",
   "mimetype": "text/x-python",
   "name": "python",
   "nbconvert_exporter": "python",
   "pygments_lexer": "ipython3",
   "version": "3.13.5"
  }
 },
 "nbformat": 4,
 "nbformat_minor": 5
}
