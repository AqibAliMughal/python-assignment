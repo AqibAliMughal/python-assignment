{
 "cells": [
  {
   "cell_type": "markdown",
   "id": "96f7a413-38fa-4389-94a6-716211cc5adf",
   "metadata": {},
   "source": [
    "### 1. A company decided to give bonus of 5% to employee if his/her year of service is more than 5 years. Ask user for their salary and year of service and print the net bonus amount."
   ]
  },
  {
   "cell_type": "code",
   "execution_count": 7,
   "id": "bd371465-6903-49c9-bf40-e4a5ed2160b7",
   "metadata": {},
   "outputs": [
    {
     "name": "stdin",
     "output_type": "stream",
     "text": [
      "Enter salary 5500\n",
      "Total service 2\n"
     ]
    },
    {
     "name": "stdout",
     "output_type": "stream",
     "text": [
      "You are not eligible for the bonus\n"
     ]
    }
   ],
   "source": [
    "salary = int(input('Enter salary'))\n",
    "year_of_service = int(input('Total service'))\n",
    "if year_of_service > 5:\n",
    "    salary = salary * 0.05\n",
    "    print(f\"Salary bonus: {salary}\")\n",
    "else: \n",
    "    print(\"You are not eligible for the bonus\")"
   ]
  },
  {
   "cell_type": "markdown",
   "id": "70a4f27b-4937-48a5-a9c3-2c09f8976462",
   "metadata": {},
   "source": [
    "### 2. Write a program to check whether a person is eligible for voting or not. (accept age from user) if age is greater than 17 eligible otherwise not eligible"
   ]
  },
  {
   "cell_type": "code",
   "execution_count": 8,
   "id": "ee40cf4f-105e-4f99-b022-f50b60329bbb",
   "metadata": {},
   "outputs": [
    {
     "name": "stdin",
     "output_type": "stream",
     "text": [
      "Enter your age:  23\n"
     ]
    },
    {
     "name": "stdout",
     "output_type": "stream",
     "text": [
      "You are eligible to vote.\n"
     ]
    }
   ],
   "source": [
    "age = int(input(\"Enter your age: \"))\n",
    "if age > 17:\n",
    "    print(\"You are eligible to vote.\")\n",
    "else:\n",
    "    print(\"You are not eligible to vote.\")\n"
   ]
  },
  {
   "cell_type": "markdown",
   "id": "80dce81c-6d32-4fd9-9bda-366271cda82a",
   "metadata": {},
   "source": [
    "### 3. Write a program to check whether a number entered by user is even or odd."
   ]
  },
  {
   "cell_type": "code",
   "execution_count": 9,
   "id": "122b1c8c-576f-40a8-95b2-405e344260c2",
   "metadata": {},
   "outputs": [
    {
     "name": "stdin",
     "output_type": "stream",
     "text": [
      "Enter a number:  28\n"
     ]
    },
    {
     "name": "stdout",
     "output_type": "stream",
     "text": [
      "28 is an Even number.\n"
     ]
    }
   ],
   "source": [
    "num = int(input(\"Enter a number: \"))\n",
    "if num % 2 == 0:\n",
    "    print(f\"{num} is an Even number.\")\n",
    "else:\n",
    "    print(f\"{num} is an Odd number.\")\n"
   ]
  },
  {
   "cell_type": "markdown",
   "id": "a9ea9bdc-4c45-47f2-bcbf-7a7aa5fb0ff2",
   "metadata": {},
   "source": [
    "### 4. Write a program to check whether a number is divisible by 7 or not. Show Answer\n"
   ]
  },
  {
   "cell_type": "code",
   "execution_count": 10,
   "id": "07ec1b76-94da-45c9-8c4b-2dcff55b4a60",
   "metadata": {},
   "outputs": [
    {
     "name": "stdin",
     "output_type": "stream",
     "text": [
      "Enter a number:  22\n"
     ]
    },
    {
     "name": "stdout",
     "output_type": "stream",
     "text": [
      "22 is not divisible by 7.\n"
     ]
    }
   ],
   "source": [
    "num = int(input(\"Enter a number: \"))\n",
    "if num % 7 == 0:\n",
    "    print(f\"{num} is divisible by 7.\")\n",
    "else:\n",
    "    print(f\"{num} is not divisible by 7.\")\n"
   ]
  },
  {
   "cell_type": "markdown",
   "id": "347d1568-ff37-42a6-80d0-f5c24fe788ae",
   "metadata": {},
   "source": [
    "### 5. Write a program to display \"Hello\" if a number entered by user is a multiple of five , otherwise print \"Bye\".\n"
   ]
  },
  {
   "cell_type": "code",
   "execution_count": 11,
   "id": "b7baa1b9-f7fb-4a4d-8733-a1a22125de7a",
   "metadata": {},
   "outputs": [
    {
     "name": "stdin",
     "output_type": "stream",
     "text": [
      "Enter a number:  20\n"
     ]
    },
    {
     "name": "stdout",
     "output_type": "stream",
     "text": [
      "Hello\n"
     ]
    }
   ],
   "source": [
    "num = int(input(\"Enter a number: \"))\n",
    "if num % 5 == 0:\n",
    "    print(\"Hello\")\n",
    "else:\n",
    "    print(\"Bye\")\n"
   ]
  },
  {
   "cell_type": "markdown",
   "id": "4f70b1ab-fcfe-428d-92d4-4949198a1225",
   "metadata": {},
   "source": [
    "### 6. Write a program to display the last digit of a number.\n"
   ]
  },
  {
   "cell_type": "code",
   "execution_count": 15,
   "id": "f4448e43-5ae6-4d29-9cf9-6d16fbe2be0f",
   "metadata": {},
   "outputs": [
    {
     "name": "stdin",
     "output_type": "stream",
     "text": [
      "Enter a number 334451\n"
     ]
    },
    {
     "name": "stdout",
     "output_type": "stream",
     "text": [
      "1\n"
     ]
    }
   ],
   "source": [
    "num = input('Enter a number')\n",
    "print(num[len(num) - 1])"
   ]
  },
  {
   "cell_type": "markdown",
   "id": "eae8203b-6027-4ece-b709-0546d6b63b26",
   "metadata": {},
   "source": [
    "### 7. Take values of length and breadth of a rectangle from user and print if it is square or rectangle.\n"
   ]
  },
  {
   "cell_type": "code",
   "execution_count": 17,
   "id": "afb4f030-d42a-4971-b174-0e5f6882cb42",
   "metadata": {},
   "outputs": [
    {
     "name": "stdin",
     "output_type": "stream",
     "text": [
      "Enter length 4\n",
      "Enter breadth 5\n"
     ]
    },
    {
     "name": "stdout",
     "output_type": "stream",
     "text": [
      "Rectangle\n"
     ]
    }
   ],
   "source": [
    "length = input('Enter length')\n",
    "breadth = input('Enter breadth')\n",
    "if(length == breadth):\n",
    "    print('Square')\n",
    "else:\n",
    "    print('Rectangle')"
   ]
  },
  {
   "cell_type": "markdown",
   "id": "bff9521f-24d4-4d60-a405-07ef7a5c4628",
   "metadata": {},
   "source": [
    "### 8. Take two int values from user and print greatest among them.\n"
   ]
  },
  {
   "cell_type": "code",
   "execution_count": 18,
   "id": "ee192214-a51f-4ece-bd22-3432bbb4e38b",
   "metadata": {},
   "outputs": [
    {
     "name": "stdin",
     "output_type": "stream",
     "text": [
      "Enter first number:  4\n",
      "Enter second number:  5\n"
     ]
    },
    {
     "name": "stdout",
     "output_type": "stream",
     "text": [
      "5 is greater.\n"
     ]
    }
   ],
   "source": [
    "num1 = int(input(\"Enter first number: \"))\n",
    "num2 = int(input(\"Enter second number: \"))\n",
    "\n",
    "if num1 > num2:\n",
    "    print(f\"{num1} is greater.\")\n",
    "elif num2 > num1:\n",
    "    print(f\"{num2} is greater.\")\n",
    "else:\n",
    "    print(\"Both numbers are equal.\")\n"
   ]
  },
  {
   "cell_type": "markdown",
   "id": "bd3591ac-b92c-4f16-b957-8e39c196657c",
   "metadata": {},
   "source": [
    "### 9. A shop will give discount of 10% if the cost of purchased quantity is more than 1000. Ask user for quantity Suppose, one unit will cost 100. Judge and print total cost for user."
   ]
  },
  {
   "cell_type": "code",
   "execution_count": 21,
   "id": "c3f57d99-9e67-468f-9844-a4c5b67babd0",
   "metadata": {},
   "outputs": [
    {
     "name": "stdin",
     "output_type": "stream",
     "text": [
      "Enter quantity 105\n"
     ]
    },
    {
     "name": "stdout",
     "output_type": "stream",
     "text": [
      "Total Cost: 10500\n",
      "Discount applied: 1050.0\n",
      "After discount: 9450.0\n"
     ]
    }
   ],
   "source": [
    "quantity = int(input('Enter quantity'))\n",
    "total = 100 * quantity\n",
    "print(f\"Total Cost: {total}\")\n",
    "if total > 1000:\n",
    "    discount = total * 0.1\n",
    "    total = total - discount\n",
    "    print(f\"Discount applied: {discount}\")    \n",
    "    print(f\"After discount: {total}\")    "
   ]
  },
  {
   "cell_type": "markdown",
   "id": "e89d1e04-b7c2-4ed8-b017-58b8afca5630",
   "metadata": {},
   "source": [
    "### 10. A school has following rules for grading system:\n",
    "a. Below 25 - F\n",
    "\n",
    "b. 25 to 45 - E\n",
    "\n",
    "c. 45 to 50 - D\n",
    "\n",
    "d. 50 to 60 - C\n",
    "\n",
    "e. 60 to 80 - B\n",
    "\n",
    "f. Above 80 - A\n",
    "\n",
    "Ask user to enter marks and print the corresponding grade."
   ]
  },
  {
   "cell_type": "code",
   "execution_count": 22,
   "id": "4199b8af-3e61-4c9c-aa18-fbb649078c70",
   "metadata": {},
   "outputs": [
    {
     "name": "stdin",
     "output_type": "stream",
     "text": [
      "Enter your marks (0–100):  56\n"
     ]
    },
    {
     "name": "stdout",
     "output_type": "stream",
     "text": [
      "Grade: C\n"
     ]
    }
   ],
   "source": [
    "marks = int(input(\"Enter your marks (0–100): \"))\n",
    "if marks < 25:\n",
    "    print(\"Grade: F\")\n",
    "elif marks < 45:\n",
    "    print(\"Grade: E\")\n",
    "elif marks < 50:\n",
    "    print(\"Grade: D\")\n",
    "elif marks < 60:\n",
    "    print(\"Grade: C\")\n",
    "elif marks < 80:\n",
    "    print(\"Grade: B\")\n",
    "elif marks <= 100:\n",
    "    print(\"Grade: A\")\n",
    "else:\n",
    "    print(\"Invalid input! Marks should be between 0 and 100.\")\n"
   ]
  },
  {
   "cell_type": "markdown",
   "id": "090ac01c-8bb6-4a32-89a0-93e8a30b7f50",
   "metadata": {},
   "source": [
    "### 11. A student will not be allowed to sit in exam if his/her attendence is less than 75%.\n",
    "\n",
    "Take following input from user\n",
    "\n",
    "Number of classes held\n",
    "\n",
    "Number of classes attended.\n",
    "\n",
    "And print\n",
    "\n",
    "percentage of class attended\n",
    "\n",
    "Is student is allowed to sit in exam or not."
   ]
  },
  {
   "cell_type": "code",
   "execution_count": 24,
   "id": "21438781-602f-43cf-b731-354304eb08b2",
   "metadata": {},
   "outputs": [
    {
     "name": "stdin",
     "output_type": "stream",
     "text": [
      "Total Class 100\n",
      "Attended Class 75\n"
     ]
    },
    {
     "name": "stdout",
     "output_type": "stream",
     "text": [
      "Student is allowed to sit in exam\n"
     ]
    }
   ],
   "source": [
    "total_classes = int(input('Total Class'))\n",
    "class_attended = int(input('Attended Class'))\n",
    "percentage_attended = (class_attended / total_classes) * 100\n",
    "if percentage_attended < 75:\n",
    "    print('Student not allowed to sit in exam')\n",
    "else:\n",
    "    print('Student is allowed to sit in exam')"
   ]
  },
  {
   "cell_type": "markdown",
   "id": "84874d93-bd83-409b-a2d9-660113d1bfa6",
   "metadata": {},
   "source": [
    "### 15. Modify the above question to allow student to sit if he/she has medical cause. Ask user if he/she has medical cause or not ( 'Y' or 'N' ) and print accordingly."
   ]
  },
  {
   "cell_type": "code",
   "execution_count": 36,
   "id": "5e36fe02-ac96-4d3a-8f08-8a0b638b6ff8",
   "metadata": {},
   "outputs": [
    {
     "name": "stdin",
     "output_type": "stream",
     "text": [
      "Total Class 100\n",
      "Attended Class 70\n",
      "Did you had medical cause? true\n"
     ]
    },
    {
     "name": "stdout",
     "output_type": "stream",
     "text": [
      "Student is allowed to sit in exam\n"
     ]
    }
   ],
   "source": [
    "total_classes = int(input('Total Class'))\n",
    "class_attended = int(input('Attended Class'))\n",
    "is_sick = bool(input('Did you had medical cause?')) # true or false\n",
    "percentage_attended = (class_attended / total_classes) * 100\n",
    "if percentage_attended < 75 and is_sick == 'false':\n",
    "    print('Student not allowed to sit in exam')\n",
    "else:\n",
    "    print('Student is allowed to sit in exam')"
   ]
  },
  {
   "cell_type": "markdown",
   "id": "568ccb97-b720-41e6-9ec1-ae62eb99d32d",
   "metadata": {},
   "source": [
    "### 16. Write a program to check if a year is leap year or not. If a year is divisible by 4 then it is leap year but if the year is century year like 2000, 1900, 2100 then it must be divisible by 400."
   ]
  },
  {
   "cell_type": "code",
   "execution_count": 52,
   "id": "7c124a6f-f6c3-438a-bf7e-4bdc01637ba6",
   "metadata": {},
   "outputs": [
    {
     "name": "stdin",
     "output_type": "stream",
     "text": [
      "Enter a year: 2358\n"
     ]
    },
    {
     "name": "stdout",
     "output_type": "stream",
     "text": [
      "Its not a leap year\n"
     ]
    }
   ],
   "source": [
    "year = int(input(\"Enter a year:\"))\n",
    "if year % 4 == 0 or (year % 100 == 0 and year % 400 == 0):\n",
    "    print(\"Its a leap year.\")\n",
    "else: \n",
    "    print(\"Its not a leap year\")"
   ]
  },
  {
   "cell_type": "markdown",
   "id": "ed9dc99c-4f00-4398-94b9-68e78623d33d",
   "metadata": {},
   "source": [
    "### 17. Ask user to enter age, gender ( M or F ), marital status ( Y or N ) and then using following rules print their place of service.\n",
    "if employee is female, then she will work only in urban areas.\n",
    "\n",
    "if employee is a male and age is in between 20 to 40 then he may work in anywhere\n",
    "\n",
    "if employee is male and age is in between 40 t0 60 then he will work in urban areas only.\n",
    "\n",
    "And any other input of age should print \"ERROR\""
   ]
  },
  {
   "cell_type": "code",
   "execution_count": 54,
   "id": "cd568f3b-ab8b-458b-95f7-e40233c2caa7",
   "metadata": {},
   "outputs": [
    {
     "name": "stdin",
     "output_type": "stream",
     "text": [
      "Enter your age:  24\n",
      "Enter your gender (M/F):  F\n",
      "Are you married? (Y/N):  Y\n"
     ]
    },
    {
     "name": "stdout",
     "output_type": "stream",
     "text": [
      "You will work only in urban areas.\n"
     ]
    }
   ],
   "source": [
    "age = int(input(\"Enter your age: \"))\n",
    "gender = input(\"Enter your gender (M/F): \")\n",
    "marital_status = input(\"Are you married? (Y/N): \")\n",
    "\n",
    "if gender == 'F':\n",
    "    print(\"You will work only in urban areas.\")\n",
    "elif gender == 'M':\n",
    "    if 20 <= age <= 40:\n",
    "        print(\"You may work anywhere.\")\n",
    "    elif 40 < age <= 60:\n",
    "        print(\"You will work only in urban areas.\")\n",
    "    else:\n",
    "        print(\"ERROR: Invalid age for male employee.\")\n",
    "else:\n",
    "    print(\"ERROR: Invalid gender entered.\")\n"
   ]
  },
  {
   "cell_type": "markdown",
   "id": "d0fb47b3-5ec5-4622-9dcd-9fad24d4aa35",
   "metadata": {},
   "source": [
    "### 18. Write a program to calculate the electricity bill (accept number of unit from user) according to the following criteria : Unit Price uptp 100 units no charge Next 200 units Rs 5 per unit After 200 units Rs 10 per unit (For example if input unit is 350 than total bill amount is Rs.3500 (For example if input unit is 97 than total bill amount is Rs.0 (For example if input unit is 150 than total bill amount is Rs.750"
   ]
  },
  {
   "cell_type": "code",
   "execution_count": 2,
   "id": "dcdd5663-26ff-4ba9-8617-8cae5aa38568",
   "metadata": {},
   "outputs": [
    {
     "name": "stdin",
     "output_type": "stream",
     "text": [
      "Enter the number of units consumed:  333\n"
     ]
    },
    {
     "name": "stdout",
     "output_type": "stream",
     "text": [
      "Total electricity bill is: PKR: 0\n"
     ]
    }
   ],
   "source": [
    "units = int(input(\"Enter the number of units consumed: \"))\n",
    "bill = 0\n",
    "if units <= 100:\n",
    "    bill = 0\n",
    "elif units <= 300:\n",
    "    bill = (units - 100) * 5\n",
    "else:\n",
    "    bill = (200 * 5) + (units - 300) * 10\n",
    "\n",
    "print(f\"Total electricity bill is: PKR: {bill}\")\n"
   ]
  },
  {
   "cell_type": "code",
   "execution_count": null,
   "id": "c282c76c-6b30-4e2d-8b94-efef63f5ab4a",
   "metadata": {},
   "outputs": [],
   "source": []
  }
 ],
 "metadata": {
  "kernelspec": {
   "display_name": "Python 3 (ipykernel)",
   "language": "python",
   "name": "python3"
  },
  "language_info": {
   "codemirror_mode": {
    "name": "ipython",
    "version": 3
   },
   "file_extension": ".py",
   "mimetype": "text/x-python",
   "name": "python",
   "nbconvert_exporter": "python",
   "pygments_lexer": "ipython3",
   "version": "3.13.5"
  }
 },
 "nbformat": 4,
 "nbformat_minor": 5
}
