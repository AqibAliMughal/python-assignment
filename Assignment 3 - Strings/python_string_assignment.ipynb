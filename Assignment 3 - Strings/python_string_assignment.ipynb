{
 "cells": [
  {
   "cell_type": "markdown",
   "id": "9c250572-2830-4eb2-8f8b-6eb1f8c1ee50",
   "metadata": {},
   "source": [
    "## Assignment #1 - Strings"
   ]
  },
  {
   "cell_type": "markdown",
   "id": "02a2efe4-0443-47b1-802f-d028ba662624",
   "metadata": {},
   "source": [
    "#### 1. Write a program that accepts a string from user. Your program should count and display number of vowels in that string. "
   ]
  },
  {
   "cell_type": "code",
   "execution_count": 3,
   "id": "046b4bf0-03a7-4150-9870-690e9aff36bc",
   "metadata": {},
   "outputs": [
    {
     "name": "stdin",
     "output_type": "stream",
     "text": [
      "Enter the longest Noun name mississippi\n"
     ]
    },
    {
     "name": "stdout",
     "output_type": "stream",
     "text": [
      "This character 'i' from string is a vowel\n",
      "This character 'i' from string is a vowel\n",
      "This character 'i' from string is a vowel\n",
      "This character 'i' from string is a vowel\n",
      "Total vowels in the string mississippi are 4\n"
     ]
    }
   ],
   "source": [
    "user_input = input('Enter the longest Noun name')\n",
    "vowels = ['a', 'e', 'i', 'o', 'u']\n",
    "total_vowels_exists = 0\n",
    "for character in user_input:\n",
    "    if(character in vowels):\n",
    "        print(f\"This character '{character}' from string is a vowel\")\n",
    "        total_vowels_exists += 1\n",
    "print(f\"Total vowels in the string {user_input} are {total_vowels_exists}\")       \n"
   ]
  },
  {
   "cell_type": "markdown",
   "id": "1f48f75a-51d6-4d0c-852e-53586ea43778",
   "metadata": {},
   "source": [
    "## Assignment #3 - Strings"
   ]
  },
  {
   "cell_type": "markdown",
   "id": "fb8b7c5a-9345-4ff5-bdc7-aa9a80d0f678",
   "metadata": {},
   "source": [
    "### Write a Python program that accepts a string from user. Your program should create and display a new string where the first and last characters have been exchanged."
   ]
  },
  {
   "cell_type": "code",
   "execution_count": 12,
   "id": "62429a5c-b864-496b-aedb-72c748534609",
   "metadata": {},
   "outputs": [
    {
     "name": "stdin",
     "output_type": "stream",
     "text": [
      "Enter your name here: Karachi\n"
     ]
    },
    {
     "name": "stdout",
     "output_type": "stream",
     "text": [
      "New string is iarachK\n"
     ]
    }
   ],
   "source": [
    "user_input = input('Enter your name here:')\n",
    "new_string = ''\n",
    "#print(user_input[0], user_input[3])\n",
    "for (index, character) in enumerate(user_input):\n",
    "    if(index == 0):\n",
    "     new_string += user_input[len(user_input) - 1]\n",
    "    elif(index == len(user_input) - 1):\n",
    "     new_string += user_input[0]\n",
    "    else:\n",
    "        new_string += character\n",
    "print(f\"New string is {new_string}\")       "
   ]
  },
  {
   "cell_type": "markdown",
   "id": "041be2d5-8526-4177-84ba-75a02a31a131",
   "metadata": {},
   "source": [
    "## Assignment #4 - Strings"
   ]
  },
  {
   "cell_type": "markdown",
   "id": "825449f6-3abf-4de3-9146-bb3e9d19c627",
   "metadata": {},
   "source": [
    "###  Write a Python program that accepts a string from user. Your program should create a new string in reverse of first string and display it. "
   ]
  },
  {
   "cell_type": "code",
   "execution_count": 27,
   "id": "c79f7d13-8c14-483a-a2ac-db3c9c954aff",
   "metadata": {},
   "outputs": [
    {
     "name": "stdin",
     "output_type": "stream",
     "text": [
      "Enter your name here: Aqib Ali Mughal\n"
     ]
    },
    {
     "name": "stdout",
     "output_type": "stream",
     "text": [
      "Reversed String: lahguM ilA biqA\n"
     ]
    }
   ],
   "source": [
    "user_input = input('Enter your name here:')\n",
    "total_no_of_chars = len(user_input)\n",
    "reverse_string = ''\n",
    "for inde in range(total_no_of_chars):\n",
    "    total_no_of_chars -= 1\n",
    "    reverse_string += user_input[total_no_of_chars]\n",
    "print(f\"Reversed String: {reverse_string}\")"
   ]
  },
  {
   "cell_type": "markdown",
   "id": "fbda6a89-8eb9-4bfe-8dbf-3e31eaa9d3e2",
   "metadata": {},
   "source": [
    "## Assignment #5 - Strings"
   ]
  },
  {
   "cell_type": "markdown",
   "id": "1b37b5b4-0c97-4c50-ac91-c223ff8571a9",
   "metadata": {},
   "source": [
    "### Write a Python program that accepts a string from user. Your program should create a new string by shifting one position to left. \n"
   ]
  },
  {
   "cell_type": "code",
   "execution_count": 35,
   "id": "3f52e722-2506-4f44-985b-48fee7510708",
   "metadata": {},
   "outputs": [
    {
     "name": "stdin",
     "output_type": "stream",
     "text": [
      "Enter your name here: Hyderabad\n"
     ]
    },
    {
     "name": "stdout",
     "output_type": "stream",
     "text": [
      "Place first character of string to the last:\n",
      "Updated string: yderabadH\n"
     ]
    }
   ],
   "source": [
    "user_input = input('Enter your name here:')\n",
    "total_no_of_chars = len(user_input)\n",
    "new_string = ''\n",
    "print(f\"Place first character of string to the last:\")\n",
    "for index in range(total_no_of_chars):\n",
    "    #total_no_of_chars -= 1\n",
    "    if(index != 0):\n",
    "      new_string +=  user_input[index]\n",
    "    if(index == len(user_input) - 1):\n",
    "      new_string += user_input[0]\n",
    "    \n",
    "print(f\"Updated string: {new_string}\")"
   ]
  },
  {
   "cell_type": "markdown",
   "id": "6c011aa2-83a0-41c2-8019-f8a46ef917b3",
   "metadata": {},
   "source": [
    "## Assignment #6 - Strings"
   ]
  },
  {
   "cell_type": "markdown",
   "id": "8686b73f-7680-4779-af34-79867a5fb14e",
   "metadata": {},
   "source": [
    "### Write a program that asks the user to input his name and print its initials. Assuming that the user always types first name, middle name and last name and does not include any unnecessary spaces. "
   ]
  },
  {
   "cell_type": "code",
   "execution_count": 39,
   "id": "5b435fb3-6f98-4d1c-ac00-51931454f13f",
   "metadata": {},
   "outputs": [
    {
     "name": "stdin",
     "output_type": "stream",
     "text": [
      "Enter your First Name:  Aqib\n",
      "Enter your Middle Name:  Ali\n",
      "Enter your Last Name:     Mughal\n"
     ]
    },
    {
     "name": "stdout",
     "output_type": "stream",
     "text": [
      "Initials: A A M\n"
     ]
    }
   ],
   "source": [
    "first_name = input('Enter your First Name: ').strip()\n",
    "middle_name = input('Enter your Middle Name: ').strip()\n",
    "last_name = input('Enter your Last Name: ').strip()\n",
    "\n",
    "initials = f\"{first_name[0].upper()} {middle_name[0].upper()} {last_name[0].upper()}\"\n",
    "print(f\"Initials: {initials}\")"
   ]
  },
  {
   "cell_type": "markdown",
   "id": "f6b15612-4dbb-4a2a-a8b8-2206065303a5",
   "metadata": {},
   "source": [
    "## Assignment #7 - Strings"
   ]
  },
  {
   "cell_type": "markdown",
   "id": "8ba0569a-0d1e-4de6-ad42-6d7f4b0dbc97",
   "metadata": {},
   "source": [
    "### A palindrome is a string that reads the same backward as forward. For example, the words dad, madam and radar are all palindromes. Write a programs that determines whether the string is a palindrome. \n"
   ]
  },
  {
   "cell_type": "code",
   "execution_count": 49,
   "id": "0855beb0-2609-4756-9ebb-61229a635dc4",
   "metadata": {},
   "outputs": [
    {
     "name": "stdin",
     "output_type": "stream",
     "text": [
      "Enter a palindrome keyword:  Level\n"
     ]
    },
    {
     "name": "stdout",
     "output_type": "stream",
     "text": [
      "Level leveL\n",
      "Given keyword is not a palindrome: Level\n"
     ]
    }
   ],
   "source": [
    "user_keyword = input('Enter a palindrome keyword: ').strip()\n",
    "is_palindrome = user_keyword[::-1]\n",
    "print(user_keyword , is_palindrome)\n",
    "if(user_keyword == is_palindrome):\n",
    "    print(f\"Given keyword is a palindrome: {user_keyword}\")\n",
    "else:\n",
    "    print(f\"Given keyword is not a palindrome: {user_keyword}\")\n"
   ]
  },
  {
   "cell_type": "markdown",
   "id": "c85e422d-843f-4029-b03e-855b35322212",
   "metadata": {},
   "source": [
    "## Assignment #8 - Strings"
   ]
  },
  {
   "cell_type": "code",
   "execution_count": 3,
   "id": "3e8dce08-68c8-460e-a656-46189d06542f",
   "metadata": {},
   "outputs": [
    {
     "name": "stdin",
     "output_type": "stream",
     "text": [
      "Enter a word to see its variations: SHIFT\n"
     ]
    },
    {
     "name": "stdout",
     "output_type": "stream",
     "text": [
      "SHIFT\n",
      "HIFTS\n",
      "IFTSH\n",
      "FTSHI\n",
      "TSHIF\n",
      "SHIFT\n"
     ]
    }
   ],
   "source": [
    "word = input('Enter a word to see its variations:')\n",
    "for i in range(len(word) + 1):\n",
    "    print(word)\n",
    "    word = word[1:] + word[0]"
   ]
  },
  {
   "cell_type": "markdown",
   "id": "67ed05c1-f2d6-44c0-b836-9a0b066d8aa6",
   "metadata": {},
   "source": [
    "## Assignment #9 - Strings"
   ]
  },
  {
   "cell_type": "markdown",
   "id": "3e3e37d0-d9a5-4f78-bfe8-e41a5391fc86",
   "metadata": {},
   "source": [
    "### 9. Write a program in python that accepts a string to setup a passwords. Your entered password must meet the following requirements:\n",
    "- The password must be at least eight characters long.\n",
    "- It must contain at least one uppercase letter.\n",
    "- It must contain at least one lowercase letter.\n",
    "- It must contain at least one numeric digit.\n",
    "- Your program should perform this validation."
   ]
  },
  {
   "cell_type": "code",
   "execution_count": 23,
   "id": "b6dcedf6-f72f-418d-929e-621c63075376",
   "metadata": {},
   "outputs": [
    {
     "name": "stdin",
     "output_type": "stream",
     "text": [
      "Enter password Mypass12345\n"
     ]
    },
    {
     "name": "stdout",
     "output_type": "stream",
     "text": [
      "Correct Password ✅\n"
     ]
    }
   ],
   "source": [
    "password = input('Enter password')\n",
    "has_uppercase = False\n",
    "has_lowercase = False\n",
    "has_digit = False\n",
    "if len(password) <=8:\n",
    "    print('❌ Password must be atleast 8 characters long')\n",
    "for char in password:\n",
    "    # print(char, type(char))\n",
    "    if char.isupper():\n",
    "        has_uppercase = True\n",
    "    if char.islower():\n",
    "        has_lowercase = True\n",
    "    if char.isnumeric():\n",
    "        has_digit = True\n",
    "\n",
    "if(has_uppercase and has_lowercase and has_digit):\n",
    "    print('Correct Password ✅')\n",
    "if(not has_uppercase):\n",
    "    print('❌ Password must contains atleast `one uppercase` letter')\n",
    "if(not has_lowercase):\n",
    "    print('❌ Password must contains atleast `one lowercase` letter')\n",
    "if(not has_digit):\n",
    "    print('❌ Invalid password, atleast `1 digit` is required')"
   ]
  },
  {
   "cell_type": "markdown",
   "id": "e1aa2419-9864-4934-a3a6-1884d5e0eb05",
   "metadata": {},
   "source": [
    "## Assignment #2 - Strings"
   ]
  },
  {
   "cell_type": "markdown",
   "id": "d911e43a-4a48-4439-9f22-f943ed286dde",
   "metadata": {},
   "source": [
    "### Write a program that reads a string from keyboard and display:\n",
    "- The number of uppercase letters in the string\n",
    "- The number of lowercase letters in the string\n",
    "- The number of digits in the string\n",
    "- The number of whitespace characters in the string"
   ]
  },
  {
   "cell_type": "code",
   "execution_count": 27,
   "id": "c6747670-b7b5-41c5-b7d2-bb82f3268cfd",
   "metadata": {},
   "outputs": [
    {
     "name": "stdin",
     "output_type": "stream",
     "text": [
      "Enter password This Is My Password 000\n"
     ]
    },
    {
     "name": "stdout",
     "output_type": "stream",
     "text": [
      "4 12 3 4\n"
     ]
    }
   ],
   "source": [
    "password = input('Enter password')\n",
    "total_uppercase = 0\n",
    "total_lowercase = 0\n",
    "total_digit = 0\n",
    "total_space = 0\n",
    "for char in password:\n",
    "    # print(char, type(char))\n",
    "    if char.isupper():\n",
    "        total_uppercase += 1\n",
    "    if char.islower():\n",
    "        total_lowercase += 1\n",
    "    if char.isnumeric():\n",
    "        total_digit += 1\n",
    "    if char == ' ':\n",
    "        total_space += 1\n",
    "\n",
    "print(total_uppercase, total_lowercase, total_digit, total_space)"
   ]
  },
  {
   "cell_type": "code",
   "execution_count": null,
   "id": "90dd4a61-b1aa-488c-8a15-c3c951b2ef3d",
   "metadata": {},
   "outputs": [],
   "source": []
  }
 ],
 "metadata": {
  "kernelspec": {
   "display_name": "Python 3 (ipykernel)",
   "language": "python",
   "name": "python3"
  },
  "language_info": {
   "codemirror_mode": {
    "name": "ipython",
    "version": 3
   },
   "file_extension": ".py",
   "mimetype": "text/x-python",
   "name": "python",
   "nbconvert_exporter": "python",
   "pygments_lexer": "ipython3",
   "version": "3.13.5"
  }
 },
 "nbformat": 4,
 "nbformat_minor": 5
}
